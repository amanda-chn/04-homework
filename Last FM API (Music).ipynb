{
 "cells": [
  {
   "cell_type": "markdown",
   "metadata": {},
   "source": [
    "# Last FM API (Music)\n",
    "\n",
    "Spotify's API is dead to us, so we're using Last.fm's - it's still music, just not as nice of an API.\n",
    "\n",
    "1. Create an account at https://www.last.fm/api/\n",
    "2. Create an \"application\" to get a key: https://www.last.fm/api/account/create\n",
    "    - It isn't a real application, it's just your project\n",
    "    - Name/description doesn't matter, ignore callback key and callback url\n",
    "3. And save the API key that shows up on the next screen\n",
    "\n",
    "You can find documentation at https://www.last.fm/api/\n",
    "\n",
    "The domain for the API is `http://ws.audioscrobbler.com`, so all of your endpoints will be connected to that. To test your API key, check the following URL in your browser: `http://ws.audioscrobbler.com/2.0/?method=artist.search&artist=cher&api_key=XXXXXXXXXXXXXXXXXXXX&format=json` (change the `XXXXXX` to be your API key, of course!).\n",
    "\n",
    "> Last.fm used to be called **AudioScrobbler**, which is why its URLs don't have \"last.fm\" in them.\n",
    "> While we're asking about URLs, notice that the API endpoints have a lot of `?` and `&` in them - these are key/value pairs, kind of like dictionaries, but for URLs instead of Python."
   ]
  },
  {
   "cell_type": "markdown",
   "metadata": {},
   "source": [
    "# FIRST: SETUP"
   ]
  },
  {
   "cell_type": "markdown",
   "metadata": {},
   "source": [
    "## 1) Import the libraries/packages you might need\n",
    "\n",
    "We need a library to read in the data for us! We don't like `urllib2`, so it must be something cooler and better."
   ]
  },
  {
   "cell_type": "code",
   "execution_count": 1,
   "metadata": {},
   "outputs": [],
   "source": [
    "# Import what you need here\n",
    "import requests\n"
   ]
  },
  {
   "cell_type": "markdown",
   "metadata": {},
   "source": [
    "## 2) Save your API key\n",
    "\n",
    "Write your API key here so you don't forget it - it's the \"api key\" one, not the \"shared secret\" one\n",
    "\n",
    "API key: 6b5dc1472d5e5a2d87b409c64b2f3063"
   ]
  },
  {
   "cell_type": "markdown",
   "metadata": {},
   "source": [
    "## 3) The death of an API\n",
    "\n",
    "I used to have some code here that allowed you to display images, but _the images don't work any more._ Let this be an important lesson: when you depend on external services, they can die at any time."
   ]
  },
  {
   "cell_type": "code",
   "execution_count": 2,
   "metadata": {},
   "outputs": [],
   "source": [
    "#rip"
   ]
  },
  {
   "cell_type": "markdown",
   "metadata": {},
   "source": [
    "# NOW: YOUR ASSIGNMENT"
   ]
  },
  {
   "cell_type": "markdown",
   "metadata": {},
   "source": [
    "## 1) Search for and print a list of 50 musicians with `lil` in their name, along with the number of listeners they have\n",
    "\n",
    "There are a lot of musicians with \"Lil\" in their name - it used to be all Lil Wayne and Lil Kim, but we live in a new world now!\n",
    "\n",
    "- *Tip: Remember, the domain for the API is `http://ws.audioscrobbler.com`*\n",
    "- *Tip: Make sure you ask the API for 50 musicians! This involves adding another parameter to the URL - notice they all have a `&` before them. [Read the documentation](http://www.last.fm/api/show/artist.search) to find the parameter's name.* \n",
    "- *Tip: When you are looking at any piece of data - is it a dictionary? Look at the keys! Is it a list? Look at the first element!*\n",
    "- *Tip: LOOK AT THE KEYS. and then the other keys and the other keys and the other keys. It's an ugly series of dictionaries!*"
   ]
  },
  {
   "cell_type": "code",
   "execution_count": 3,
   "metadata": {},
   "outputs": [],
   "source": [
    "last_fm_url = \"http://ws.audioscrobbler.com/2.0/?method=artist.search&artist=Lil&api_key=6b5dc1472d5e5a2d87b409c64b2f3063&limit=50&format=json\"\n",
    "response = requests.get(last_fm_url)\n",
    "last_fm_data = response.json()"
   ]
  },
  {
   "cell_type": "code",
   "execution_count": 4,
   "metadata": {},
   "outputs": [],
   "source": [
    "last_fm_data['results']['artistmatches']['artist']\n",
    "lil_artist_list = last_fm_data['results']['artistmatches']['artist']\n",
    "#print(last_fm_data['results']['artistmatches']['artist'])\n"
   ]
  },
  {
   "cell_type": "code",
   "execution_count": 5,
   "metadata": {},
   "outputs": [
    {
     "name": "stdout",
     "output_type": "stream",
     "text": [
      "LIL UZI VERT has 1008235 listeners.\n",
      "LIL PEEP has 811611 listeners.\n",
      "Lil Nas X has 1374846 listeners.\n",
      "Lil' Wayne has 3377129 listeners.\n",
      "Lily Allen has 2506162 listeners.\n",
      "Lil Baby has 621118 listeners.\n",
      "Lil Tecca has 533760 listeners.\n",
      "Lil Yachty has 584320 listeners.\n",
      "lil tjay has 423607 listeners.\n",
      "Lil Wayne has 691145 listeners.\n",
      "Lil Durk has 371535 listeners.\n",
      "lil skies has 382708 listeners.\n",
      "Lil Darkie has 195550 listeners.\n",
      "lil Mosey has 467553 listeners.\n",
      "Lil Ugly Mane has 193442 listeners.\n",
      "Lil B has 321240 listeners.\n",
      "LIL PUMP has 409349 listeners.\n",
      "LIL TRACY has 152576 listeners.\n",
      "Lil Keed has 188996 listeners.\n",
      "Lil Dicky has 390544 listeners.\n",
      "Lil' Kim has 577070 listeners.\n",
      "Lil Xan has 261316 listeners.\n",
      "Lilly Wood & The Prick has 434455 listeners.\n",
      "Lil Loaded has 100890 listeners.\n",
      "Lilypichu has 67336 listeners.\n",
      "Lil Jon has 668737 listeners.\n",
      "LIL GNAR has 157221 listeners.\n",
      "Lil Jon & The East Side Boyz has 597680 listeners.\n",
      "lilbubblegum has 78379 listeners.\n",
      "Lilac has 204797 listeners.\n",
      "Lil Aaron has 118688 listeners.\n",
      "Fenne Lily has 211650 listeners.\n",
      "Lil Eazzyy has 121858 listeners.\n",
      "Lila Downs has 186342 listeners.\n",
      "Lil Gotit has 66432 listeners.\n",
      "LIL BO WEEP has 70692 listeners.\n",
      "Lily James has 119189 listeners.\n",
      "Lil Kleine has 70713 listeners.\n",
      "Lil Revive has 29968 listeners.\n",
      "Lil Boosie has 421523 listeners.\n",
      "The Tiger Lillies has 122101 listeners.\n",
      "LIL DUSTY G has 62734 listeners.\n",
      "Lil' Kleine has 68885 listeners.\n",
      "Lil Lotus has 56771 listeners.\n",
      "Lil Mariko has 65388 listeners.\n",
      "Lily Chou-Chou has 64946 listeners.\n",
      "Lil Wyte has 272339 listeners.\n",
      "Lil Boodang has 66338 listeners.\n",
      "Lil Candy Paint has 74651 listeners.\n",
      "Lil' Flip has 361180 listeners.\n"
     ]
    }
   ],
   "source": [
    "for artists in lil_artist_list:\n",
    "    artist_name = artists['name']\n",
    "    listeners = artists['listeners']\n",
    "    print(f'{artist_name} has {listeners} listeners.')"
   ]
  },
  {
   "cell_type": "code",
   "execution_count": null,
   "metadata": {
    "scrolled": false
   },
   "outputs": [],
   "source": []
  },
  {
   "cell_type": "code",
   "execution_count": null,
   "metadata": {},
   "outputs": [],
   "source": []
  },
  {
   "cell_type": "markdown",
   "metadata": {},
   "source": [
    "Your results should begin something like this:\n",
    "    \n",
    "```\n",
    "Lil' Wayne has 3086628 listeners\n",
    "Lily Allen has 2074266 listeners\n",
    "Lil B has 194116 listeners\n",
    "Lilly Wood & The Prick has 359886 listeners\n",
    "Lil Ugly Mane has 31955 listeners\n",
    "LIL UZI VERT has 88517 listeners\n",
    "```"
   ]
  },
  {
   "cell_type": "markdown",
   "metadata": {},
   "source": [
    "## 2) How many listeners does your list have in total?\n",
    "\n",
    "The answer should be roughly **15,000,000**. If it's lower, make sure you have 50 artists instead of 30 artists.\n",
    "\n",
    "- *Tip: What's the data type of the `listeners` count? It's going to cause a problem!*\n",
    "- *Tip: If you were crazy you could use sum and a list comprehension. But you really don't have to!*"
   ]
  },
  {
   "cell_type": "code",
   "execution_count": 6,
   "metadata": {},
   "outputs": [],
   "source": [
    "type(listeners)\n",
    "listeners = int(listeners)"
   ]
  },
  {
   "cell_type": "code",
   "execution_count": 7,
   "metadata": {},
   "outputs": [
    {
     "name": "stdout",
     "output_type": "stream",
     "text": [
      "There are 18,059,000 listeners in total.\n"
     ]
    }
   ],
   "source": [
    "listeners_count = 0\n",
    "for artists in lil_artist_list:\n",
    "    listeners_count = listeners_count + listeners\n",
    "print(f'There are {listeners_count:,} listeners in total.')\n"
   ]
  },
  {
   "cell_type": "markdown",
   "metadata": {},
   "source": [
    "## 3) Show each artist's name and the URL to the extra-large image\n",
    "\n",
    "The images don't work any more, but we'll print their URLs out anyway."
   ]
  },
  {
   "cell_type": "markdown",
   "metadata": {},
   "source": [
    "Each artist **has a list of images of different sizes**. We're interested in the second-to-last one, where `size` is `extralarge`. Print their name and use `display_image` to display their extra-large image.\n",
    "\n",
    "- *Tip: The URL should look like this: `https://lastfm-img2.akamaized.net/i/u/300x300/0fc7d7a1812dc79e9925d80382cde594.png`*\n",
    "- *Tip: You can always assume it's the second to the last, or assume it's `extralarge`, or whatever you want to do to find it.*\n",
    "- *Tip: Make sure the URL is correct before you try to display it.*\n",
    "\n",
    "Your output should look something like\n",
    "\n",
    "```\n",
    "Lil' Wayne\n",
    "https://lastfm.freetls.fastly.net/i/u/300x300/2a96cbd8b46e442fc41c2b86b821562f.png\n",
    "---\n",
    "LIL UZI VERT\n",
    "https://lastfm.freetls.fastly.net/i/u/300x300/2a96cbd8b46e442fc41c2b86b821562f.png\n",
    "---\n",
    "Lily Allen\n",
    "https://lastfm.freetls.fastly.net/i/u/300x300/2a96cbd8b46e442fc41c2b86b821562f.png\n",
    "---\n",
    "```\n",
    "\n",
    "(but with more people, obviously)"
   ]
  },
  {
   "cell_type": "code",
   "execution_count": 8,
   "metadata": {},
   "outputs": [
    {
     "name": "stdout",
     "output_type": "stream",
     "text": [
      "--------\n",
      "LIL UZI VERT\n",
      "https://lastfm.freetls.fastly.net/i/u/300x300/2a96cbd8b46e442fc41c2b86b821562f.png\n",
      "--------\n",
      "LIL PEEP\n",
      "https://lastfm.freetls.fastly.net/i/u/300x300/2a96cbd8b46e442fc41c2b86b821562f.png\n",
      "--------\n",
      "Lil Nas X\n",
      "https://lastfm.freetls.fastly.net/i/u/300x300/2a96cbd8b46e442fc41c2b86b821562f.png\n",
      "--------\n",
      "Lil' Wayne\n",
      "https://lastfm.freetls.fastly.net/i/u/300x300/2a96cbd8b46e442fc41c2b86b821562f.png\n",
      "--------\n",
      "Lily Allen\n",
      "https://lastfm.freetls.fastly.net/i/u/300x300/2a96cbd8b46e442fc41c2b86b821562f.png\n",
      "--------\n",
      "Lil Baby\n",
      "https://lastfm.freetls.fastly.net/i/u/300x300/2a96cbd8b46e442fc41c2b86b821562f.png\n",
      "--------\n",
      "Lil Tecca\n",
      "https://lastfm.freetls.fastly.net/i/u/300x300/2a96cbd8b46e442fc41c2b86b821562f.png\n",
      "--------\n",
      "Lil Yachty\n",
      "https://lastfm.freetls.fastly.net/i/u/300x300/2a96cbd8b46e442fc41c2b86b821562f.png\n",
      "--------\n",
      "lil tjay\n",
      "https://lastfm.freetls.fastly.net/i/u/300x300/2a96cbd8b46e442fc41c2b86b821562f.png\n",
      "--------\n",
      "Lil Wayne\n",
      "https://lastfm.freetls.fastly.net/i/u/300x300/2a96cbd8b46e442fc41c2b86b821562f.png\n",
      "--------\n",
      "Lil Durk\n",
      "https://lastfm.freetls.fastly.net/i/u/300x300/2a96cbd8b46e442fc41c2b86b821562f.png\n",
      "--------\n",
      "lil skies\n",
      "https://lastfm.freetls.fastly.net/i/u/300x300/2a96cbd8b46e442fc41c2b86b821562f.png\n",
      "--------\n",
      "Lil Darkie\n",
      "https://lastfm.freetls.fastly.net/i/u/300x300/2a96cbd8b46e442fc41c2b86b821562f.png\n",
      "--------\n",
      "lil Mosey\n",
      "https://lastfm.freetls.fastly.net/i/u/300x300/2a96cbd8b46e442fc41c2b86b821562f.png\n",
      "--------\n",
      "Lil Ugly Mane\n",
      "https://lastfm.freetls.fastly.net/i/u/300x300/2a96cbd8b46e442fc41c2b86b821562f.png\n",
      "--------\n",
      "Lil B\n",
      "https://lastfm.freetls.fastly.net/i/u/300x300/2a96cbd8b46e442fc41c2b86b821562f.png\n",
      "--------\n",
      "LIL PUMP\n",
      "https://lastfm.freetls.fastly.net/i/u/300x300/2a96cbd8b46e442fc41c2b86b821562f.png\n",
      "--------\n",
      "LIL TRACY\n",
      "https://lastfm.freetls.fastly.net/i/u/300x300/2a96cbd8b46e442fc41c2b86b821562f.png\n",
      "--------\n",
      "Lil Keed\n",
      "https://lastfm.freetls.fastly.net/i/u/300x300/2a96cbd8b46e442fc41c2b86b821562f.png\n",
      "--------\n",
      "Lil Dicky\n",
      "https://lastfm.freetls.fastly.net/i/u/300x300/2a96cbd8b46e442fc41c2b86b821562f.png\n",
      "--------\n",
      "Lil' Kim\n",
      "https://lastfm.freetls.fastly.net/i/u/300x300/2a96cbd8b46e442fc41c2b86b821562f.png\n",
      "--------\n",
      "Lil Xan\n",
      "https://lastfm.freetls.fastly.net/i/u/300x300/2a96cbd8b46e442fc41c2b86b821562f.png\n",
      "--------\n",
      "Lilly Wood & The Prick\n",
      "https://lastfm.freetls.fastly.net/i/u/300x300/2a96cbd8b46e442fc41c2b86b821562f.png\n",
      "--------\n",
      "Lil Loaded\n",
      "https://lastfm.freetls.fastly.net/i/u/300x300/2a96cbd8b46e442fc41c2b86b821562f.png\n",
      "--------\n",
      "Lilypichu\n",
      "https://lastfm.freetls.fastly.net/i/u/300x300/2a96cbd8b46e442fc41c2b86b821562f.png\n",
      "--------\n",
      "Lil Jon\n",
      "https://lastfm.freetls.fastly.net/i/u/300x300/2a96cbd8b46e442fc41c2b86b821562f.png\n",
      "--------\n",
      "LIL GNAR\n",
      "https://lastfm.freetls.fastly.net/i/u/300x300/2a96cbd8b46e442fc41c2b86b821562f.png\n",
      "--------\n",
      "Lil Jon & The East Side Boyz\n",
      "https://lastfm.freetls.fastly.net/i/u/300x300/2a96cbd8b46e442fc41c2b86b821562f.png\n",
      "--------\n",
      "lilbubblegum\n",
      "https://lastfm.freetls.fastly.net/i/u/300x300/2a96cbd8b46e442fc41c2b86b821562f.png\n",
      "--------\n",
      "Lilac\n",
      "https://lastfm.freetls.fastly.net/i/u/300x300/2a96cbd8b46e442fc41c2b86b821562f.png\n",
      "--------\n",
      "Lil Aaron\n",
      "https://lastfm.freetls.fastly.net/i/u/300x300/2a96cbd8b46e442fc41c2b86b821562f.png\n",
      "--------\n",
      "Fenne Lily\n",
      "https://lastfm.freetls.fastly.net/i/u/300x300/2a96cbd8b46e442fc41c2b86b821562f.png\n",
      "--------\n",
      "Lil Eazzyy\n",
      "https://lastfm.freetls.fastly.net/i/u/300x300/2a96cbd8b46e442fc41c2b86b821562f.png\n",
      "--------\n",
      "Lila Downs\n",
      "https://lastfm.freetls.fastly.net/i/u/300x300/2a96cbd8b46e442fc41c2b86b821562f.png\n",
      "--------\n",
      "Lil Gotit\n",
      "https://lastfm.freetls.fastly.net/i/u/300x300/2a96cbd8b46e442fc41c2b86b821562f.png\n",
      "--------\n",
      "LIL BO WEEP\n",
      "https://lastfm.freetls.fastly.net/i/u/300x300/2a96cbd8b46e442fc41c2b86b821562f.png\n",
      "--------\n",
      "Lily James\n",
      "https://lastfm.freetls.fastly.net/i/u/300x300/2a96cbd8b46e442fc41c2b86b821562f.png\n",
      "--------\n",
      "Lil Kleine\n",
      "https://lastfm.freetls.fastly.net/i/u/300x300/2a96cbd8b46e442fc41c2b86b821562f.png\n",
      "--------\n",
      "Lil Revive\n",
      "https://lastfm.freetls.fastly.net/i/u/300x300/2a96cbd8b46e442fc41c2b86b821562f.png\n",
      "--------\n",
      "Lil Boosie\n",
      "https://lastfm.freetls.fastly.net/i/u/300x300/2a96cbd8b46e442fc41c2b86b821562f.png\n",
      "--------\n",
      "The Tiger Lillies\n",
      "https://lastfm.freetls.fastly.net/i/u/300x300/2a96cbd8b46e442fc41c2b86b821562f.png\n",
      "--------\n",
      "LIL DUSTY G\n",
      "https://lastfm.freetls.fastly.net/i/u/300x300/2a96cbd8b46e442fc41c2b86b821562f.png\n",
      "--------\n",
      "Lil' Kleine\n",
      "https://lastfm.freetls.fastly.net/i/u/300x300/2a96cbd8b46e442fc41c2b86b821562f.png\n",
      "--------\n",
      "Lil Lotus\n",
      "https://lastfm.freetls.fastly.net/i/u/300x300/2a96cbd8b46e442fc41c2b86b821562f.png\n",
      "--------\n",
      "Lil Mariko\n",
      "https://lastfm.freetls.fastly.net/i/u/300x300/2a96cbd8b46e442fc41c2b86b821562f.png\n",
      "--------\n",
      "Lily Chou-Chou\n",
      "https://lastfm.freetls.fastly.net/i/u/300x300/2a96cbd8b46e442fc41c2b86b821562f.png\n",
      "--------\n",
      "Lil Wyte\n",
      "https://lastfm.freetls.fastly.net/i/u/300x300/2a96cbd8b46e442fc41c2b86b821562f.png\n",
      "--------\n",
      "Lil Boodang\n",
      "https://lastfm.freetls.fastly.net/i/u/300x300/2a96cbd8b46e442fc41c2b86b821562f.png\n",
      "--------\n",
      "Lil Candy Paint\n",
      "https://lastfm.freetls.fastly.net/i/u/300x300/2a96cbd8b46e442fc41c2b86b821562f.png\n",
      "--------\n",
      "Lil' Flip\n",
      "https://lastfm.freetls.fastly.net/i/u/300x300/2a96cbd8b46e442fc41c2b86b821562f.png\n"
     ]
    }
   ],
   "source": [
    "for artists in lil_artist_list:\n",
    "    print(\"--------\")\n",
    "    artist_name = artists['name']\n",
    "    print(artist_name)\n",
    "    for images in artists['image']:\n",
    "        artist_image = images['#text']\n",
    "        image_size = images['size']\n",
    "        if image_size == 'extralarge':\n",
    "            print(artist_image)"
   ]
  },
  {
   "cell_type": "markdown",
   "metadata": {},
   "source": [
    "## 4) Find Lil Jon's `mbid` (or anyone else's!).\n",
    "\n",
    "Oftentimes in an API, you can do a few things: you can **search** for items, and you can **see more information** about items. To find more information about the item, you need to use their **unique id**. In this dataset, it's called an `mbid` (MusicBrainz, I think - another company associated with last.fm!).\n",
    "\n",
    "Go through the artists and print their **name and mbid**. Find Lil Jon's `mbid`. I *wanted* Lil Uzi Vert's, but for some reason it isn't there. Then I wanted us to look at Lily Allen's, but I just couldn't bring myself to do that. If you'd rather do someone else, go for it."
   ]
  },
  {
   "cell_type": "code",
   "execution_count": 9,
   "metadata": {},
   "outputs": [],
   "source": [
    "#lil_artist_list"
   ]
  },
  {
   "cell_type": "code",
   "execution_count": 10,
   "metadata": {},
   "outputs": [
    {
     "name": "stdout",
     "output_type": "stream",
     "text": [
      "Lil Dicky\n",
      "3268f062-6e76-480a-a384-e1dd2a276afb\n"
     ]
    }
   ],
   "source": [
    "for artists in lil_artist_list:\n",
    "    artist_name = artists['name']\n",
    "    artist_mbid = artists['mbid']\n",
    "    if artist_name == \"Lil Dicky\":\n",
    "        print(artist_name)\n",
    "        print(artist_mbid)"
   ]
  },
  {
   "cell_type": "markdown",
   "metadata": {
    "collapsed": true
   },
   "source": [
    "## 5) Find the artist's name and bio using their `mbid`.\n",
    "\n",
    "It can either be Lil Jon or whoever you selected above.\n",
    "\n",
    "If you look at the [last.fm documentation](http://www.last.fm/api/show/artist.getInfo), you can see how to use the artist's `mbid` to find more information about them. Print **every tag associated with your artist**.\n",
    "\n",
    "- *Tip: It's a new request to the API*\n",
    "- *Tip: Use the `mbid`, and make sure you delete the `&name=Cher` from the sample endpoint*\n",
    "- *Tip: If you use `print` for the bio it looks a little nicer than it would otherwise*"
   ]
  },
  {
   "cell_type": "code",
   "execution_count": 11,
   "metadata": {},
   "outputs": [],
   "source": [
    "lil_dicky_url = \"http://ws.audioscrobbler.com/2.0/?method=artist.getinfo&mbid=3268f062-6e76-480a-a384-e1dd2a276afb&api_key=6b5dc1472d5e5a2d87b409c64b2f3063&limit=50&format=json\"\n",
    "response = requests.get(lil_dicky_url)\n",
    "lil_dicky_data = response.json()"
   ]
  },
  {
   "cell_type": "code",
   "execution_count": 12,
   "metadata": {},
   "outputs": [
    {
     "name": "stdout",
     "output_type": "stream",
     "text": [
      "Lil Dicky\n"
     ]
    }
   ],
   "source": [
    "name = lil_dicky_data['artist']['name']\n",
    "print(name)"
   ]
  },
  {
   "cell_type": "code",
   "execution_count": 13,
   "metadata": {},
   "outputs": [
    {
     "name": "stdout",
     "output_type": "stream",
     "text": [
      "Lil Dicky (or LD) (born David Andrew Burd on 15 March 1988) is an American rapper and comedian. He came to prominence with the release of the music video of his song \"Ex-Boyfriend\", which went viral with more than one million views on YouTube in 24 hours. He released his debut album Professional Rapper on July 31, 2015. In 2018, his song \"Freaky Friday\", featuring Chris Brown, became a worldwide hit.\n",
      "\n",
      "In an era where rap is dominated by racial, social <a href=\"https://www.last.fm/music/Lil+Dicky\">Read more on Last.fm</a>\n"
     ]
    }
   ],
   "source": [
    "summary = lil_dicky_data['artist']['bio']['summary']\n",
    "print(summary)"
   ]
  },
  {
   "cell_type": "code",
   "execution_count": null,
   "metadata": {},
   "outputs": [],
   "source": []
  },
  {
   "cell_type": "markdown",
   "metadata": {
    "collapsed": true
   },
   "source": [
    "## 6) Print every tag of that artist"
   ]
  },
  {
   "cell_type": "code",
   "execution_count": 14,
   "metadata": {},
   "outputs": [
    {
     "name": "stdout",
     "output_type": "stream",
     "text": [
      "Hip-Hop\n",
      "rap\n",
      "comedy\n",
      "hip hop\n",
      "seen live\n"
     ]
    }
   ],
   "source": [
    "lil_dicky_tags = lil_dicky_data['artist']['tags']['tag']\n",
    "for tags in lil_dicky_tags:\n",
    "    tags = tags['name']\n",
    "    print(tags)"
   ]
  },
  {
   "cell_type": "markdown",
   "metadata": {},
   "source": [
    "# GETTING A LITTLE CRAZY\n",
    "\n",
    "So you know your original list of musicians? I want to get tag data for ALL OF THEM. How are we going to do that?\n",
    "\n",
    "## 7) Find the mbids (again)\n",
    "\n",
    "If we have a musician with an mbid of `AAA-AAA-AAA`, we get their info from a url like `http://ws.audioscrobbler.com/blahblah/?api_key=12345&mbid=AAA-AAA-AAA`.\n",
    "\n",
    "|artist|url|\n",
    "|---|---|\n",
    "|`AAA-AAA-AAA`|`http://ws.audioscrobbler.com/blahblah/?api_key=12345&mbid=AAA-AAA-AAA`|\n",
    "|`BBB-BBB-BBB`|`http://ws.audioscrobbler.com/blahblah/?api_key=12345&mbid=BBB-BBB-BBB`|\n",
    "|`CCC-CCC-CCC`|`http://ws.audioscrobbler.com/blahblah/?api_key=12345&mbid=CCC-CCC-CCC`|\n",
    "\n",
    "I guess we should start trying to get a list of all of the mbids.\n",
    "\n",
    "**Loop through your artists, and print out the `mbid` for each artist**\n",
    "\n",
    "- *Tip: You probably need to request your artist search result data again, because you probably saved over `data` with your other API request. Maybe call it `artist_data` this time?*\n",
    "- *Tip: If the artist does NOT have an `mbid`, don't print it.*"
   ]
  },
  {
   "cell_type": "code",
   "execution_count": 15,
   "metadata": {},
   "outputs": [],
   "source": [
    "#last_fm_data['results']['artistmatches']['artist']"
   ]
  },
  {
   "cell_type": "code",
   "execution_count": 16,
   "metadata": {},
   "outputs": [
    {
     "name": "stdout",
     "output_type": "stream",
     "text": [
      "6e0c7c0e-cba5-4c2c-a652-38f71ef5785d\n",
      "ac9a487a-d9d2-4f27-bb23-0f4686488345\n",
      "c9cd225b-4883-428e-82c2-73e0b6282fb6\n",
      "5f1adfe1-4d07-4141-b181-79e5d379d539\n",
      "1550f952-c91b-40d7-9b4d-d26a259ee932\n",
      "3268f062-6e76-480a-a384-e1dd2a276afb\n",
      "bc1b5c95-e6d6-46b5-957a-5e8908b02c1e\n",
      "1b72331b-3a97-4981-a81c-eeee9c275d28\n",
      "a95384b1-6aec-468c-ae0d-8c6daf87c4c2\n",
      "243c6f61-d83b-4459-bebd-5899df0da111\n",
      "1967c6ce-95a4-48f0-8ac7-abe637524aee\n",
      "ad29ae1c-2eda-4071-9dc8-31910e7e546c\n",
      "8ba17cf6-bec2-4ae4-9820-b1cda47adc08\n",
      "3ad4f6ec-253f-4050-8849-ca26266edfb8\n",
      "5652bb3e-f225-49de-9637-5aa1539b4a7c\n",
      "9b5ce0c1-1bc0-4ea2-a8d3-f5ee7af9eda8\n",
      "981d39fc-bd00-4cc6-ac67-6410f8b89098\n"
     ]
    }
   ],
   "source": [
    "for artists in lil_artist_list:\n",
    "    artist_name = artists['name']\n",
    "    artist_mbid = artists['mbid']\n",
    "    if artist_mbid != \"\":\n",
    "        print(artist_mbid)"
   ]
  },
  {
   "cell_type": "markdown",
   "metadata": {},
   "source": [
    "Your results should look something like\n",
    "\n",
    "```\n",
    "6e0c7c0e-cba5-4c2c-a652-38f71ef5785d\n",
    "1550f952-c91b-40d7-9b4d-d26a259ee932\n",
    "1b72331b-3a97-4981-a81c-eeee9c275d28\n",
    "5f1adfe1-4d07-4141-b181-79e5d379d539\n",
    "a95384b1-6aec-468c-ae0d-8c6daf87c4c2\n",
    "bc1b5c95-e6d6-46b5-957a-5e8908b02c1e\n",
    "243c6f61-d83b-4459-bebd-5899df0da111\n",
    "```"
   ]
  },
  {
   "cell_type": "markdown",
   "metadata": {},
   "source": [
    "## 8) Saving those mbids\n",
    "\n",
    "For those `mbid` values, instead of printing them out, save them to a new list of just mbid values. Call this list `mbids`.\n",
    "\n",
    "- *Tip: Use `.append` to add a single element onto a list*"
   ]
  },
  {
   "cell_type": "code",
   "execution_count": 17,
   "metadata": {},
   "outputs": [],
   "source": [
    "mbids = []\n",
    "for artists in lil_artist_list:\n",
    "    artist_mbid = artists['mbid']\n",
    "    if artist_mbid != \"\":\n",
    "        mbids.append(artist_mbid)"
   ]
  },
  {
   "cell_type": "code",
   "execution_count": 18,
   "metadata": {},
   "outputs": [
    {
     "name": "stdout",
     "output_type": "stream",
     "text": [
      "['6e0c7c0e-cba5-4c2c-a652-38f71ef5785d', 'ac9a487a-d9d2-4f27-bb23-0f4686488345', 'c9cd225b-4883-428e-82c2-73e0b6282fb6', '5f1adfe1-4d07-4141-b181-79e5d379d539', '1550f952-c91b-40d7-9b4d-d26a259ee932', '3268f062-6e76-480a-a384-e1dd2a276afb', 'bc1b5c95-e6d6-46b5-957a-5e8908b02c1e', '1b72331b-3a97-4981-a81c-eeee9c275d28', 'a95384b1-6aec-468c-ae0d-8c6daf87c4c2', '243c6f61-d83b-4459-bebd-5899df0da111', '1967c6ce-95a4-48f0-8ac7-abe637524aee', 'ad29ae1c-2eda-4071-9dc8-31910e7e546c', '8ba17cf6-bec2-4ae4-9820-b1cda47adc08', '3ad4f6ec-253f-4050-8849-ca26266edfb8', '5652bb3e-f225-49de-9637-5aa1539b4a7c', '9b5ce0c1-1bc0-4ea2-a8d3-f5ee7af9eda8', '981d39fc-bd00-4cc6-ac67-6410f8b89098']\n"
     ]
    }
   ],
   "source": [
    "print(mbids)"
   ]
  },
  {
   "cell_type": "markdown",
   "metadata": {},
   "source": [
    "Your results should look something like\n",
    "\n",
    "```['6e0c7c0e-cba5-4c2c-a652-38f71ef5785d',\n",
    " '1550f952-c91b-40d7-9b4d-d26a259ee932',\n",
    " '1b72331b-3a97-4981-a81c-eeee9c275d28',\n",
    " '5f1adfe1-4d07-4141-b181-79e5d379d539',\n",
    " 'a95384b1-6aec-468c-ae0d-8c6daf87c4c2',\n",
    " 'bc1b5c95-e6d6-46b5-957a-5e8908b02c1e',\n",
    " '243c6f61-d83b-4459-bebd-5899df0da111',\n",
    " '8ba17cf6-bec2-4ae4-9820-b1cda47adc08',\n",
    " 'ad29ae1c-2eda-4071-9dc8-31910e7e546c',\n",
    " '3268f062-6e76-480a-a384-e1dd2a276afb',\n",
    " '3ad4f6ec-253f-4050-8849-ca26266edfb8',\n",
    " '9b5ce0c1-1bc0-4ea2-a8d3-f5ee7af9eda8',\n",
    " '981d39fc-bd00-4cc6-ac67-6410f8b89098',\n",
    " 'b89f4c50-72f5-48ce-b08c-a643b191b24f',\n",
    " 'bc21df5c-3d79-479b-b638-8ddb5ecea403',\n",
    " 'c9cd225b-4883-428e-82c2-73e0b6282fb6',\n",
    " '9acaf734-b380-4c48-954c-a2cf1d7990a9',\n",
    " 'd4d5ae85-700c-4a55-8a39-7f923da07ef2',\n",
    " '77fafce8-a32f-4d42-bdce-266bbf913cee',\n",
    " '50ad1cde-1536-4268-a55f-e47a7b8280ab',\n",
    " '9803d120-716d-45ba-9eb7-9a120813f908',\n",
    " 'b27560ea-2783-4a91-be45-9e8711917562',\n",
    " '194e87c9-b3fe-4fbd-82a7-8c54b4dd4c76',\n",
    " 'fd90af91-ed07-4e85-8816-26c954fe5286',\n",
    " '5652bb3e-f225-49de-9637-5aa1539b4a7c']```"
   ]
  },
  {
   "cell_type": "markdown",
   "metadata": {},
   "source": [
    "## 9) Printing our API urls\n",
    "\n",
    "To get tag data for each artist, you need to use those `mbid` values to access their artist page on the API. Loop through the mbids, displying the URL you'll need to access.\n",
    "\n",
    "- *Tip: You don't want to use a comma when printing, because commas add spaces into your text and URLs can't have that*\n",
    "- *Tip: Make sure your URL has `artist.getinfo` in it - if not, you're using the wrong endpoint.*"
   ]
  },
  {
   "cell_type": "code",
   "execution_count": 19,
   "metadata": {},
   "outputs": [],
   "source": [
    "#http://ws.audioscrobbler.com/2.0/?method=artist.getinfo&api_key=6b5dc1472d5e5a2d87b409c64b2f3063&format=json&"
   ]
  },
  {
   "cell_type": "code",
   "execution_count": 20,
   "metadata": {},
   "outputs": [
    {
     "name": "stdout",
     "output_type": "stream",
     "text": [
      "http://ws.audioscrobbler.com/2.0/?method=artist.getinfo&api_key=6b5dc1472d5e5a2d87b409c64b2f3063&format=json&mbid=6e0c7c0e-cba5-4c2c-a652-38f71ef5785d\n",
      "http://ws.audioscrobbler.com/2.0/?method=artist.getinfo&api_key=6b5dc1472d5e5a2d87b409c64b2f3063&format=json&mbid=ac9a487a-d9d2-4f27-bb23-0f4686488345\n",
      "http://ws.audioscrobbler.com/2.0/?method=artist.getinfo&api_key=6b5dc1472d5e5a2d87b409c64b2f3063&format=json&mbid=c9cd225b-4883-428e-82c2-73e0b6282fb6\n",
      "http://ws.audioscrobbler.com/2.0/?method=artist.getinfo&api_key=6b5dc1472d5e5a2d87b409c64b2f3063&format=json&mbid=5f1adfe1-4d07-4141-b181-79e5d379d539\n",
      "http://ws.audioscrobbler.com/2.0/?method=artist.getinfo&api_key=6b5dc1472d5e5a2d87b409c64b2f3063&format=json&mbid=1550f952-c91b-40d7-9b4d-d26a259ee932\n",
      "http://ws.audioscrobbler.com/2.0/?method=artist.getinfo&api_key=6b5dc1472d5e5a2d87b409c64b2f3063&format=json&mbid=3268f062-6e76-480a-a384-e1dd2a276afb\n",
      "http://ws.audioscrobbler.com/2.0/?method=artist.getinfo&api_key=6b5dc1472d5e5a2d87b409c64b2f3063&format=json&mbid=bc1b5c95-e6d6-46b5-957a-5e8908b02c1e\n",
      "http://ws.audioscrobbler.com/2.0/?method=artist.getinfo&api_key=6b5dc1472d5e5a2d87b409c64b2f3063&format=json&mbid=1b72331b-3a97-4981-a81c-eeee9c275d28\n",
      "http://ws.audioscrobbler.com/2.0/?method=artist.getinfo&api_key=6b5dc1472d5e5a2d87b409c64b2f3063&format=json&mbid=a95384b1-6aec-468c-ae0d-8c6daf87c4c2\n",
      "http://ws.audioscrobbler.com/2.0/?method=artist.getinfo&api_key=6b5dc1472d5e5a2d87b409c64b2f3063&format=json&mbid=243c6f61-d83b-4459-bebd-5899df0da111\n",
      "http://ws.audioscrobbler.com/2.0/?method=artist.getinfo&api_key=6b5dc1472d5e5a2d87b409c64b2f3063&format=json&mbid=1967c6ce-95a4-48f0-8ac7-abe637524aee\n",
      "http://ws.audioscrobbler.com/2.0/?method=artist.getinfo&api_key=6b5dc1472d5e5a2d87b409c64b2f3063&format=json&mbid=ad29ae1c-2eda-4071-9dc8-31910e7e546c\n",
      "http://ws.audioscrobbler.com/2.0/?method=artist.getinfo&api_key=6b5dc1472d5e5a2d87b409c64b2f3063&format=json&mbid=8ba17cf6-bec2-4ae4-9820-b1cda47adc08\n",
      "http://ws.audioscrobbler.com/2.0/?method=artist.getinfo&api_key=6b5dc1472d5e5a2d87b409c64b2f3063&format=json&mbid=3ad4f6ec-253f-4050-8849-ca26266edfb8\n",
      "http://ws.audioscrobbler.com/2.0/?method=artist.getinfo&api_key=6b5dc1472d5e5a2d87b409c64b2f3063&format=json&mbid=5652bb3e-f225-49de-9637-5aa1539b4a7c\n",
      "http://ws.audioscrobbler.com/2.0/?method=artist.getinfo&api_key=6b5dc1472d5e5a2d87b409c64b2f3063&format=json&mbid=9b5ce0c1-1bc0-4ea2-a8d3-f5ee7af9eda8\n",
      "http://ws.audioscrobbler.com/2.0/?method=artist.getinfo&api_key=6b5dc1472d5e5a2d87b409c64b2f3063&format=json&mbid=981d39fc-bd00-4cc6-ac67-6410f8b89098\n"
     ]
    }
   ],
   "source": [
    "for mbid in mbids:\n",
    "    print(f'http://ws.audioscrobbler.com/2.0/?method=artist.getinfo&api_key=6b5dc1472d5e5a2d87b409c64b2f3063&format=json&mbid={mbid}')"
   ]
  },
  {
   "cell_type": "markdown",
   "metadata": {},
   "source": [
    "Your results should look something like\n",
    "\n",
    "```http://ws.audioscrobbler.com/2.0/?method=artist.getinfo&api_key=XXXXX&format=json&mbid=6e0c7c0e-cba5-4c2c-a652-38f71ef5785d\n",
    "http://ws.audioscrobbler.com/2.0/?method=artist.getinfo&api_key=XXXXX&format=json&mbid=1550f952-c91b-40d7-9b4d-d26a259ee932\n",
    "http://ws.audioscrobbler.com/2.0/?method=artist.getinfo&api_key=XXXXX&format=json&mbid=1b72331b-3a97-4981-a81c-eeee9c275d28\n",
    "http://ws.audioscrobbler.com/2.0/?method=artist.getinfo&api_key=XXXXX&format=json&mbid=5f1adfe1-4d07-4141-b181-79e5d379d539\n",
    "http://ws.audioscrobbler.com/2.0/?method=artist.getinfo&api_key=XXXXX&format=json&mbid=a95384b1-6aec-468c-ae0d-8c6daf87c4c2\n",
    "http://ws.audioscrobbler.com/2.0/?method=artist.getinfo&api_key=XXXXX&format=json&mbid=bc1b5c95-e6d6-46b5-957a-5e8908b02c1e```"
   ]
  },
  {
   "cell_type": "markdown",
   "metadata": {},
   "source": [
    "## OKAY HERE IS A LITTLE INFORMATION: Using our API urls\n",
    "\n",
    "This time instead of just *displaying* the URL, we're going to *request and process it*. **But first I'm going to teach you something.**\n",
    "\n",
    "When you're dealing with an API, you don't want to make a million requests, have bad code, and then need to do those million requests again. It's usually best to test your code with a few of the results first.\n",
    "\n",
    "So, if we have a list of numbers like this:"
   ]
  },
  {
   "cell_type": "code",
   "execution_count": 21,
   "metadata": {},
   "outputs": [
    {
     "data": {
      "text/plain": [
       "[4, 5, 6, 7]"
      ]
     },
     "execution_count": 21,
     "metadata": {},
     "output_type": "execute_result"
    }
   ],
   "source": [
    "numbers = [4, 5, 6, 7]\n",
    "numbers"
   ]
  },
  {
   "cell_type": "markdown",
   "metadata": {},
   "source": [
    "You can actually say to Python, **give me the first two**, and it will only give you the first two."
   ]
  },
  {
   "cell_type": "code",
   "execution_count": 22,
   "metadata": {},
   "outputs": [
    {
     "data": {
      "text/plain": [
       "[4, 5]"
      ]
     },
     "execution_count": 22,
     "metadata": {},
     "output_type": "execute_result"
    }
   ],
   "source": [
    "numbers[:2]"
   ]
  },
  {
   "cell_type": "markdown",
   "metadata": {},
   "source": [
    "The is **very convenient** with looping with APIs, because instead of trying to use all FIFTY artists, you can just say \"hey, please try this out with 2 of them\" and you don't waste time."
   ]
  },
  {
   "cell_type": "markdown",
   "metadata": {},
   "source": [
    "## 10) Using the first three `mbids`, request the API urls and print the artist's name.\n",
    "\n",
    "You built the URLs in the last question, now it's time to use them! Use `requests` etc to grab the URL and get out the artist's name.\n",
    "\n",
    "- *Tip: The code is the same as last time you got an artist's name from their info page, it's just going to be inside of a loop*\n",
    "- *Tip: USE `PRINT` TO SEE WHAT YOU ARE LOOKING AT!!!!!*"
   ]
  },
  {
   "cell_type": "code",
   "execution_count": 23,
   "metadata": {},
   "outputs": [
    {
     "name": "stdout",
     "output_type": "stream",
     "text": [
      "Lily Allen\n",
      "Lil Wayne\n",
      "Lil Durk\n"
     ]
    }
   ],
   "source": [
    "build_url = \"https://ws.audioscrobbler.com/2.0/?method=artist.getinfo&api_key=6b5dc1472d5e5a2d87b409c64b2f3063&format=json&mbid=\"\n",
    "for mbid in mbids[:3]:\n",
    "    mbid_url = build_url+mbid\n",
    "    response = requests.get(mbid_url)\n",
    "    mbid_url_data = response.json()\n",
    "    print(mbid_url_data['artist']['name'])"
   ]
  },
  {
   "cell_type": "markdown",
   "metadata": {},
   "source": [
    "## 11) Using the first three `mbids`, request the API urls and print the artist's name and their tags\n",
    "\n",
    "- *Tip: The code is the same as last time you got an artist's name from their info page, it's just going to be inside of a loop*\n",
    "- *Tip: It's a for loop in a for loop!*"
   ]
  },
  {
   "cell_type": "code",
   "execution_count": 24,
   "metadata": {
    "scrolled": false
   },
   "outputs": [
    {
     "name": "stdout",
     "output_type": "stream",
     "text": [
      "-----\n",
      "Lily Allen\n",
      "pop\n",
      "female vocalists\n",
      "british\n",
      "britpop\n",
      "singer-songwriter\n",
      "-----\n",
      "Lil Wayne\n",
      "rap\n",
      "Hip-Hop\n",
      "hip hop\n",
      "Gangsta Rap\n",
      "Dirty South\n",
      "-----\n",
      "Lil Durk\n",
      "rap\n",
      "Hip-Hop\n",
      "drill\n",
      "trap\n",
      "hip hop\n"
     ]
    }
   ],
   "source": [
    "for mbid in mbids[:3]:\n",
    "    print(\"-----\")\n",
    "    mbid_url = build_url+mbid\n",
    "    response = requests.get(mbid_url)\n",
    "    mbid_url_data = response.json()\n",
    "    mbid_artist_name = mbid_url_data['artist']['name']\n",
    "    print(mbid_artist_name)\n",
    "    for mbid_tags in mbid_url_data['artist']['tags']['tag']:\n",
    "        artist_mbid_tags = mbid_tags['name']\n",
    "        print(artist_mbid_tags)\n",
    "      \n",
    "    "
   ]
  },
  {
   "cell_type": "markdown",
   "metadata": {},
   "source": [
    "## 12) Using the first ten mbids, print the artist's name and whether they're a rapper\n",
    "\n",
    "Only print their name ONCE and only print whether they are hip hop or not ONCE.\n",
    "\n",
    "- *Tip: Rap tags include hip hop, swag, crunk, rap, dirty south, and probably a bunch of other stuff! You can include as many categories as you'd like.*\n",
    "- *Tip: You can use `2 in [1, 2, 3]` to find out if `2` is in the list of `[1, 2, 3]`.*\n",
    "- *Tip: Every time you look at a new artist, you can say they are NOT a rapper. And once you find out one of their tags is hip hop or rap, then you can note that they're a rapper. Then once you're done looking at their tags, then you can say HEY this is a rapper, or HEY this is not a rapper.*"
   ]
  },
  {
   "cell_type": "code",
   "execution_count": 25,
   "metadata": {},
   "outputs": [
    {
     "name": "stdout",
     "output_type": "stream",
     "text": [
      "-----\n",
      "-----\n",
      "Lil Wayne\n",
      "YES Hip-Hop\n",
      "-----\n",
      "Lil Durk\n",
      "YES Hip-Hop\n",
      "-----\n",
      "Lil Ugly Mane\n",
      "YES Hip-Hop\n",
      "-----\n",
      "Lil B\n",
      "YES Hip-Hop\n",
      "-----\n",
      "Lil Dicky\n",
      "YES Hip-Hop\n",
      "-----\n",
      "Lil' Kim\n",
      "YES Hip-Hop\n",
      "-----\n",
      "-----\n",
      "Lil Jon\n",
      "YES Hip-Hop\n",
      "-----\n",
      "Lil Jon & The East Side Boyz\n",
      "YES Hip-Hop\n",
      "8\n"
     ]
    }
   ],
   "source": [
    "hip_hop_count = 0\n",
    "\n",
    "for mbid in mbids[:10]:\n",
    "    print(\"-----\")\n",
    "    mbid_url = build_url+mbid\n",
    "    response = requests.get(mbid_url)\n",
    "    mbid_url_data = response.json()\n",
    "    mbid_artist_name = mbid_url_data['artist']['name']\n",
    "    for mbid_tags in mbid_url_data['artist']['tags']['tag']:\n",
    "        artist_mbid_tags = mbid_tags['name']\n",
    "        if artist_mbid_tags == \"Hip-Hop\" in [\"Rap\", \"Hip-Hop\", \"hip-hop\"]:\n",
    "                hip_hop_count = hip_hop_count + 1\n",
    "                print(mbid_artist_name)\n",
    "                print(f'YES Hip-Hop')\n",
    "                \n",
    "\n",
    "print(hip_hop_count)"
   ]
  },
  {
   "cell_type": "markdown",
   "metadata": {},
   "source": [
    "Your results might look something like\n",
    "\n",
    "```ARTIST: Lily Allen\n",
    "NO hip hop\n",
    "ARTIST: Lil B\n",
    "YES hip hop\n",
    "ARTIST:last_fm_data Lilly Wood & The Prick\n",
    "NO hip hop\n",
    "ARTIST: Lil Ugly Mane\n",
    "YES hip hop\n",
    "ARTIST: Lil Jon\n",
    "YES hip hop\n",
    "ARTIST: Lil' Kim\n",
    "YES hip hop\n",
    "ARTIST: Lil Jon & The East Side Boyz\n",
    "YES hip hop\n",
    "```"
   ]
  },
  {
   "cell_type": "markdown",
   "metadata": {
    "collapsed": true
   },
   "source": [
    "## 13) What percent of \"lil\" results are rappers?"
   ]
  },
  {
   "cell_type": "code",
   "execution_count": 26,
   "metadata": {},
   "outputs": [
    {
     "name": "stdout",
     "output_type": "stream",
     "text": [
      "The total number of artists are 17\n",
      "The total number of rappers are 11\n",
      "From this list, there are 64.71% rappers.\n"
     ]
    }
   ],
   "source": [
    "artist_count = 0\n",
    "rapper_count = 0\n",
    "\n",
    "for mbid in mbids:\n",
    "    mbid_url = build_url+mbid\n",
    "    response = requests.get(mbid_url)\n",
    "    mbid_url_data = response.json()\n",
    "    mbid_artist_name = mbid_url_data['artist']['name']\n",
    "    artist_count = artist_count + 1\n",
    "    for mbid_tags in mbid_url_data['artist']['tags']['tag']:\n",
    "        artist_mbid_tags = mbid_tags['name']\n",
    "        if artist_mbid_tags == \"Hip-Hop\" in [\"Rap\", \"Hip-Hop\", \"hip-hop\"]:\n",
    "                rapper_count = rapper_count + 1\n",
    "        \n",
    "print(f'The total number of artists are {artist_count}')\n",
    "print(f'The total number of rappers are {rapper_count}')\n",
    "\n",
    "percentage_rappers = (rapper_count/artist_count) * 100\n",
    "\n",
    "print(f'From this list, there are {percentage_rappers:.02F}% rappers.')"
   ]
  },
  {
   "cell_type": "markdown",
   "metadata": {},
   "source": [
    "## 14) Seriously you are all-powerful now."
   ]
  },
  {
   "cell_type": "code",
   "execution_count": 27,
   "metadata": {},
   "outputs": [],
   "source": [
    "#thank you."
   ]
  },
  {
   "cell_type": "code",
   "execution_count": null,
   "metadata": {},
   "outputs": [],
   "source": []
  }
 ],
 "metadata": {
  "kernelspec": {
   "display_name": "Python 3 (ipykernel)",
   "language": "python",
   "name": "python3"
  },
  "language_info": {
   "codemirror_mode": {
    "name": "ipython",
    "version": 3
   },
   "file_extension": ".py",
   "mimetype": "text/x-python",
   "name": "python",
   "nbconvert_exporter": "python",
   "pygments_lexer": "ipython3",
   "version": "3.10.3"
  }
 },
 "nbformat": 4,
 "nbformat_minor": 1
}
